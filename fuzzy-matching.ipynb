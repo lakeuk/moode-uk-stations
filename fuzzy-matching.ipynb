{
 "cells": [
  {
   "cell_type": "code",
   "execution_count": 12,
   "id": "99eb95ee-38a9-44b7-aeda-8cdee3136a6e",
   "metadata": {
    "execution": {
     "iopub.execute_input": "2022-10-27T10:00:03.434522Z",
     "iopub.status.busy": "2022-10-27T10:00:03.434522Z",
     "iopub.status.idle": "2022-10-27T10:00:03.442076Z",
     "shell.execute_reply": "2022-10-27T10:00:03.442076Z",
     "shell.execute_reply.started": "2022-10-27T10:00:03.434522Z"
    },
    "tags": []
   },
   "outputs": [],
   "source": [
    "#!pip install fuzzywuzzy\n",
    "#!pip install python-Levenshtein"
   ]
  },
  {
   "cell_type": "code",
   "execution_count": 33,
   "id": "d030edac-291d-49e9-9cc2-eb1085eba71c",
   "metadata": {
    "execution": {
     "iopub.execute_input": "2022-10-28T17:48:15.696510Z",
     "iopub.status.busy": "2022-10-28T17:48:15.695514Z",
     "iopub.status.idle": "2022-10-28T17:48:19.704513Z",
     "shell.execute_reply": "2022-10-28T17:48:19.703867Z",
     "shell.execute_reply.started": "2022-10-28T17:48:15.696510Z"
    },
    "tags": []
   },
   "outputs": [],
   "source": [
    "import os, csv\n",
    "from fuzzywuzzy import fuzz\n",
    "from IPython.display import clear_output\n",
    "\n",
    "root = os.getcwd()\n",
    "#print(root)\n",
    "logoDIR = '600x600'\n",
    "\n",
    "def fuzzyChk(station):\n",
    "    ext = ('.jpg', 'png')\n",
    "    max1, max2, max3 = 0, 0, 0\n",
    "    for files in os.listdir(logoDIR):\n",
    "        if files.endswith(ext):\n",
    "            logoName, extension = files.split('.')\n",
    "            fuzzRatio = fuzz.ratio(station , logoName)\n",
    "            fuzzPartRatio = fuzz.partial_ratio(station , logoName)\n",
    "            fuzzTokSortRatio = fuzz.token_sort_ratio(station , logoName)\n",
    "            if station == logoName:\n",
    "                BMfuzzRatio, BMfuzzPartRatio, BMfuzzTokSortRatio, BMstation, BMlogoName, BMextension = fuzzRatio, fuzzPartRatio, fuzzTokSortRatio, station, logoName, extension\n",
    "                max1 = 101\n",
    "                max2 = 101\n",
    "                max3 = 101\n",
    "            elif fuzzTokSortRatio > max3:\n",
    "                BMfuzzRatio, BMfuzzPartRatio, BMfuzzTokSortRatio, BMstation, BMlogoName, BMextension = fuzzRatio, fuzzPartRatio, fuzzTokSortRatio, station, logoName, extension\n",
    "                max1 = fuzzRatio\n",
    "                max2 = fuzzPartRatio\n",
    "                max3 = fuzzTokSortRatio\n",
    "        else:\n",
    "            continue\n",
    "    return BMfuzzRatio, BMfuzzPartRatio, BMfuzzTokSortRatio, BMstation, BMlogoName, BMextension\n",
    "\n",
    "csvFilePath = 'station_data.csv' # master\n",
    "with open(csvFilePath) as csvFile:\n",
    "    csvReader = csv.DictReader(csvFile)\n",
    "    for rows in csvReader:\n",
    "        fuzzRatio, fuzzPartRatio, fuzzTokSortRatio, station, logoName, extension = fuzzyChk(rows['name'])\n",
    "        if station != logoName:\n",
    "            print(\"Ratios: {} {} {}, Station: {}, Logoname: {}, Ext: {}\".format(fuzzRatio, fuzzPartRatio, fuzzTokSortRatio, station, logoName, extension))\n",
    "            print('Do you want to rename the logo file - Y / N?')\n",
    "            x = input()\n",
    "            if x == 'Y' or x == 'y':\n",
    "                oldLogo = os.path.join(root, logoDIR, logoName + \".\" + extension)\n",
    "                newLogo = os.path.join(root, logoDIR, station + \".\" + extension)\n",
    "                os.rename(oldLogo, newLogo)\n",
    "                print(\"{} renamed from: {}\".format(newLogo, oldLogo))\n",
    "            clear_output()"
   ]
  },
  {
   "cell_type": "code",
   "execution_count": 32,
   "id": "5591e4e1-65bb-4047-a01a-f4f156b30eac",
   "metadata": {
    "execution": {
     "iopub.execute_input": "2022-10-28T17:43:35.831831Z",
     "iopub.status.busy": "2022-10-28T17:43:35.831831Z",
     "iopub.status.idle": "2022-10-28T17:43:35.848350Z",
     "shell.execute_reply": "2022-10-28T17:43:35.847409Z",
     "shell.execute_reply.started": "2022-10-28T17:43:35.831831Z"
    },
    "tags": []
   },
   "outputs": [],
   "source": [
    "import csv\n",
    "\n",
    "fields = ['station', 'logo']\n",
    "\n",
    "root = os.getcwd()\n",
    "logoDIR = '600x600'\n",
    "\n",
    "with open('logoDirectoryList.csv', mode='w', newline='', encoding='utf-8') as f:\n",
    "    write = csv.writer(f, delimiter=',', quotechar='\"', quoting=csv.QUOTE_MINIMAL)\n",
    "    write.writerow(['station', 'logo'])\n",
    "    for file in os.listdir(root + \"\\\\\" + logoDIR):\n",
    "        station, ext = file.split('.')\n",
    "        write.writerow([station, file])"
   ]
  },
  {
   "cell_type": "code",
   "execution_count": null,
   "id": "90bbe62a-3df9-49d3-9db1-7b20868c9151",
   "metadata": {},
   "outputs": [],
   "source": [
    "# import os, csv"
   ]
  },
  {
   "cell_type": "code",
   "execution_count": null,
   "id": "6199f7a1-1706-4240-acc7-e76702064748",
   "metadata": {},
   "outputs": [],
   "source": [
    "# import os, csv"
   ]
  },
  {
   "cell_type": "code",
   "execution_count": 32,
   "id": "a00abde3-0da9-43e9-9e4a-c158b6eb25a3",
   "metadata": {
    "execution": {
     "iopub.execute_input": "2022-10-27T10:18:32.760628Z",
     "iopub.status.busy": "2022-10-27T10:18:32.760628Z",
     "iopub.status.idle": "2022-10-27T10:18:32.774543Z",
     "shell.execute_reply": "2022-10-27T10:18:32.773537Z",
     "shell.execute_reply.started": "2022-10-27T10:18:32.760628Z"
    },
    "tags": []
   },
   "outputs": [],
   "source": [
    "# ext = ('.jpg', 'png')\n",
    "# for files in os.listdir('600x600 POC'):\n",
    "#     if files.endswith(ext):\n",
    "#         name, ex = files.split('.')\n",
    "#         #print(name)  # printing file name of desired extension\n",
    "#     else:\n",
    "#         continue"
   ]
  },
  {
   "cell_type": "code",
   "execution_count": 14,
   "id": "6e6883d3-ae4e-4b92-902d-1fe41e0e4c9f",
   "metadata": {
    "execution": {
     "iopub.execute_input": "2022-10-28T13:51:26.663366Z",
     "iopub.status.busy": "2022-10-28T13:51:26.662355Z",
     "iopub.status.idle": "2022-10-28T13:51:26.679110Z",
     "shell.execute_reply": "2022-10-28T13:51:26.677377Z",
     "shell.execute_reply.started": "2022-10-28T13:51:26.662355Z"
    },
    "tags": []
   },
   "outputs": [],
   "source": [
    "# csvFilePath = 'station_data.csv'\n",
    "# with open(csvFilePath) as csvFile:\n",
    "#     csvReader = csv.DictReader(csvFile)\n",
    "#     for rows in csvReader:\n",
    "#         print(rows['name'])"
   ]
  },
  {
   "cell_type": "code",
   "execution_count": 5,
   "id": "61904d6a-8033-481c-afd8-2c08dbe52e81",
   "metadata": {
    "execution": {
     "iopub.execute_input": "2022-10-28T13:19:42.759123Z",
     "iopub.status.busy": "2022-10-28T13:19:42.759123Z",
     "iopub.status.idle": "2022-10-28T13:19:44.273119Z",
     "shell.execute_reply": "2022-10-28T13:19:44.272125Z",
     "shell.execute_reply.started": "2022-10-28T13:19:42.759123Z"
    },
    "tags": []
   },
   "outputs": [
    {
     "name": "stdout",
     "output_type": "stream",
     "text": [
      "Do you want to rename the logo file - Y / N?\n"
     ]
    },
    {
     "name": "stdin",
     "output_type": "stream",
     "text": [
      " y\n"
     ]
    },
    {
     "name": "stdout",
     "output_type": "stream",
     "text": [
      "YES\n"
     ]
    }
   ],
   "source": [
    "# print('Do you want to rename the logo file - Y / N?')\n",
    "# x = input()\n",
    "# if x == 'Y' or x == 'y':\n",
    "#     print('YES')"
   ]
  },
  {
   "cell_type": "code",
   "execution_count": 28,
   "id": "fa4d7cf6-cc68-4568-94a0-2775d97d291f",
   "metadata": {
    "execution": {
     "iopub.execute_input": "2022-10-27T10:04:43.567633Z",
     "iopub.status.busy": "2022-10-27T10:04:43.567633Z",
     "iopub.status.idle": "2022-10-27T10:04:43.585903Z",
     "shell.execute_reply": "2022-10-27T10:04:43.584923Z",
     "shell.execute_reply.started": "2022-10-27T10:04:43.567633Z"
    },
    "tags": []
   },
   "outputs": [
    {
     "data": {
      "text/plain": [
       "69"
      ]
     },
     "execution_count": 28,
     "metadata": {},
     "output_type": "execute_result"
    }
   ],
   "source": [
    "# from fuzzywuzzy import fuzz\n",
    "\n",
    "# #fuzz.ratio(\"BBC Radio 1\",\"BBC Radio 1 (England)\")\n",
    "# #fuzz.ratio(\"BBC Radio 1 (England)\",\"BBC Radio 1 (England)\")\n",
    "# fuzz.ratio(\"BBC Radio 1 (England)\",\"BBC Radio 1\")"
   ]
  },
  {
   "cell_type": "code",
   "execution_count": 27,
   "id": "fed9cc6b-4ca7-4278-ba70-5ab8e644731d",
   "metadata": {
    "execution": {
     "iopub.execute_input": "2022-10-27T10:04:38.227176Z",
     "iopub.status.busy": "2022-10-27T10:04:38.227176Z",
     "iopub.status.idle": "2022-10-27T10:04:38.237235Z",
     "shell.execute_reply": "2022-10-27T10:04:38.236243Z",
     "shell.execute_reply.started": "2022-10-27T10:04:38.227176Z"
    },
    "tags": []
   },
   "outputs": [
    {
     "data": {
      "text/plain": [
       "100"
      ]
     },
     "execution_count": 27,
     "metadata": {},
     "output_type": "execute_result"
    }
   ],
   "source": [
    "# #fuzz.ratio(\"BBC Radio 1\",\"BBC Radio 1 (England)\")\n",
    "# #fuzz.ratio(\"BBC Radio 1 (England)\",\"BBC Radio 1 (England)\")\n",
    "# fuzz.partial_ratio(\"BBC Radio 1 (England)\",\"BBC Radio 1\")"
   ]
  },
  {
   "cell_type": "code",
   "execution_count": 30,
   "id": "8a45f3ec-2f47-4537-ba8c-a7bdb42e818b",
   "metadata": {
    "execution": {
     "iopub.execute_input": "2022-10-27T10:04:59.821410Z",
     "iopub.status.busy": "2022-10-27T10:04:59.821410Z",
     "iopub.status.idle": "2022-10-27T10:04:59.839610Z",
     "shell.execute_reply": "2022-10-27T10:04:59.838607Z",
     "shell.execute_reply.started": "2022-10-27T10:04:59.821410Z"
    },
    "tags": []
   },
   "outputs": [
    {
     "data": {
      "text/plain": [
       "73"
      ]
     },
     "execution_count": 30,
     "metadata": {},
     "output_type": "execute_result"
    }
   ],
   "source": [
    "# fuzz.token_sort_ratio(\"BBC Radio 1 (England)\",\"BBC Radio 1\")"
   ]
  }
 ],
 "metadata": {
  "kernelspec": {
   "display_name": "Python 3 (ipykernel)",
   "language": "python",
   "name": "python3"
  },
  "language_info": {
   "codemirror_mode": {
    "name": "ipython",
    "version": 3
   },
   "file_extension": ".py",
   "mimetype": "text/x-python",
   "name": "python",
   "nbconvert_exporter": "python",
   "pygments_lexer": "ipython3",
   "version": "3.10.0"
  }
 },
 "nbformat": 4,
 "nbformat_minor": 5
}
